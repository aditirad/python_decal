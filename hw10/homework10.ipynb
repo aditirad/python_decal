{
 "cells": [
  {
   "cell_type": "code",
   "execution_count": 3,
   "metadata": {
    "cellView": "form",
    "executionInfo": {
     "elapsed": 229,
     "status": "ok",
     "timestamp": 1725564371208,
     "user": {
      "displayName": "Brianna Lynn Peck",
      "userId": "00253851097760241708"
     },
     "user_tz": 420
    },
    "id": "AkECG4tia-q3"
   },
   "outputs": [],
   "source": [
    "# @title Import Necessary Packages\n",
    "import numpy as np\n",
    "import matplotlib.pyplot as plt\n",
    "%matplotlib inline"
   ]
  },
  {
   "cell_type": "markdown",
   "metadata": {
    "id": "TrKnLxnAZ9sD"
   },
   "source": [
    "# HW 9 - Advanced Plotting\n",
    "### Due November 11, 2024 at 11:59pm\n",
    "Welcome to your last problem set of the semester! (\\*confetti\\*) It's time for the hardest but also coolest homework of the course. Have fun!"
   ]
  },
  {
   "cell_type": "markdown",
   "metadata": {
    "id": "oGCNsfpJkn28"
   },
   "source": [
    "## 1) Subplot Plotting Practice"
   ]
  },
  {
   "cell_type": "code",
   "execution_count": null,
   "metadata": {
    "executionInfo": {
     "elapsed": 222,
     "status": "ok",
     "timestamp": 1725564372776,
     "user": {
      "displayName": "Brianna Lynn Peck",
      "userId": "00253851097760241708"
     },
     "user_tz": 420
    },
    "id": "90Iwj0jbalNy"
   },
   "outputs": [],
   "source": [
    "# @markdown Plot these functions on a 2 X 2 grid of subplots (4 plots total). Use fun colormaps!\n",
    "\n",
    "\n",
    "# @markdown Plot 1 (Top Left):\n",
    "\n",
    "# @markdown $$ f(x,y) = \\frac{sin(xy) * sin(1-(9x)^2 + (9y)^2)}{9} $$\n",
    "# @markdown Plot 2 (Top Right):\n",
    "# @markdown $$ f(x,y) = (0.4^2 -(0.6-(x^2+y^2)^{\\!1/2})^2)^{\\!1/2} $$\n",
    "# @markdown Plot 3 (Bottom Left):\n",
    "# @markdown $$ f(x, y) = \\frac{\\tanh(5x)}{y + 0.1}$$\n",
    "# @markdown Plot 4 (Bottom Right)\"\n",
    "# @markdown $$ f(x, y) = \\exp(-5((x - 0.2)^2 + (y + 0.3)^2))$$\n",
    "\n",
    "# @markdown Each subplot should have it's own title, and x and y labels for each plot. Each of these is an interesting shape or structure. Create a markdown cell below your plotting cell describing what you see in each plot.\n",
    "\n",
    "# @markdown Challenge: Use the same colormap for the whole figure (all 4 subplots).\n",
    "\n",
    "# @markdown *Hint: Some of the functions may require a different domain (for the x values) for the function to be defined. Make sure you take this into account.*\n",
    "\n",
    "# Your code here\n",
    "\n",
    "# Define domains for each function\n",
    "x1 = np.linspace(-1, 1, 300)\n",
    "y1 = np.linspace(-1, 1, 300)\n",
    "X1, Y1 = np.meshgrid(x1, y1)\n",
    "f1 = (np.sin(X1*Y1) * np.sin(1 - (9*X1)**2 + (9*Y1)**2)) / 9\n",
    "\n",
    "x2 = np.linspace(-0.8, 0.8, 300)\n",
    "y2 = np.linspace(-0.8, 0.8, 300)\n",
    "X2, Y2 = np.meshgrid(x2, y2)\n",
    "inside = (x2**2 + y2**2)**0.5\n",
    "f2 = np.sqrt(0.4**2 - (0.6 - inside[:,None])**2)\n",
    "f2 = np.nan_to_num(f2, nan=np.nan)\n",
    "\n",
    "x3 = np.linspace(-1, 1, 300)\n",
    "y3 = np.linspace(-1, 1, 300)\n",
    "X3, Y3 = np.meshgrid(x3, y3)\n",
    "f3 = np.tanh(5*X3) / (Y3 + 0.1)\n",
    "\n",
    "x4 = np.linspace(-1, 1, 300)\n",
    "y4 = np.linspace(-1, 1, 300)\n",
    "X4, Y4 = np.meshgrid(x4, y4)\n",
    "f4 = np.exp(-5*((X4-0.2)**2 + (Y4+0.3)**2))\n",
    "\n",
    "fig, axs = plt.subplots(2, 2, figsize=(12,10))\n",
    "cmap = 'viridis'\n",
    "\n",
    "im1 = axs[0,0].imshow(f1, extent=[-1,1,-1,1], origin='lower', cmap=cmap)\n",
    "axs[0,0].set_title('Plot 1: sin(xy) * sin(1-(9x)^2+(9y)^2)/9')\n",
    "axs[0,0].set_xlabel('x')\n",
    "axs[0,0].set_ylabel('y')\n",
    "\n",
    "im2 = axs[0,1].imshow(f2, extent=[-0.8,0.8,-0.8,0.8], origin='lower', cmap=cmap)\n",
    "axs[0,1].set_title('Plot 2: sqrt(0.4^2-(0.6-(x^2+y^2)^0.5)^2)')\n",
    "axs[0,1].set_xlabel('x')\n",
    "axs[0,1].set_ylabel('y')\n",
    "\n",
    "im3 = axs[1,0].imshow(f3, extent=[-1,1,-1,1], origin='lower', cmap=cmap)\n",
    "axs[1,0].set_title('Plot 3: tanh(5x)/(y+0.1)')\n",
    "axs[1,0].set_xlabel('x')\n",
    "axs[1,0].set_ylabel('y')\n",
    "\n",
    "im4 = axs[1,1].imshow(f4, extent=[-1,1,-1,1], origin='lower', cmap=cmap)\n",
    "axs[1,1].set_title('Plot 4: exp(-5((x-0.2)^2+(y+0.3)^2))')\n",
    "axs[1,1].set_xlabel('x')\n",
    "axs[1,1].set_ylabel('y')\n",
    "\n",
    "plt.tight_layout()\n",
    "plt.show()\n"
   ]
  },
  {
   "cell_type": "markdown",
   "metadata": {
    "id": "HmukEsUEkwL9"
   },
   "source": [
    "## 2) Random Plotting Practice"
   ]
  },
  {
   "cell_type": "code",
   "execution_count": null,
   "metadata": {
    "executionInfo": {
     "elapsed": 222,
     "status": "ok",
     "timestamp": 1725564373745,
     "user": {
      "displayName": "Brianna Lynn Peck",
      "userId": "00253851097760241708"
     },
     "user_tz": 420
    },
    "id": "n9en7sMAbaQO"
   },
   "outputs": [],
   "source": [
    "# @markdown This problem focuses on generating and visualizing random data in two different types of plots. First, you will create three lists of random numbers, each containing 50 elements, with values ranging from 0 to 200. Then, you'll create two instead of vertical subplots:\n",
    "\n",
    "# @markdown - The left plot should display the first list of random data as a blue line with a line width of 5, and the second list in green with a dotted line style.\n",
    "\n",
    "# @markdown - The right plot should be a scatter plot of the third list, using purple triangles as markers. The x-coordinate should correspond to the position of each element in the list.\n",
    "\n",
    "# @markdown Make sure to add appropriate titles and legends to each subplot.\n",
    "\n",
    "# Your code here\n",
    "\n",
    "np.random.seed(0)  # For reproducibility\n",
    "list1 = np.random.randint(0, 200, 50)\n",
    "list2 = np.random.randint(0, 200, 50)\n",
    "list3 = np.random.randint(0, 200, 50)\n",
    "\n",
    "fig, axs = plt.subplots(1, 2, figsize=(12,5))\n",
    "\n",
    "# Left plot: line plots\n",
    "axs[0].plot(list1, color='blue', linewidth=5, label='List 1')\n",
    "axs[0].plot(list2, color='green', linestyle=':', label='List 2')\n",
    "axs[0].set_title('Random Data Line Plots')\n",
    "axs[0].legend()\n",
    "\n",
    "# Right plot: scatter\n",
    "axs[1].scatter(range(50), list3, color='purple', marker='^', label='List 3')\n",
    "axs[1].set_title('Random Data Scatter Plot')\n",
    "axs[1].legend()\n",
    "\n",
    "plt.tight_layout()\n",
    "plt.show()\n"
   ]
  },
  {
   "cell_type": "markdown",
   "metadata": {
    "id": "bSFmPlWWk00T"
   },
   "source": [
    "## 3) Monte Carlo\n",
    "\n",
    "Did you know that you can estimate the value of $\\pi$ using random numbers? Crazy statement but really cool.\n",
    "\n",
    "First, you need to generate a large number of random points inside a 1x1 square with one corner at the origin (essentially you are making a unit circle).\n",
    "\n",
    "Second, check how many of these points fall within a distance of 1 from the origin (in other words, a radius = 1). These points will lie inside a quarter circle, centered at the origin.\n",
    "\n",
    "By using the ratio of points inside the quarter circle to the total number of points, we can estimate $\\pi$! based on the relationship between the area of a quarter circle and the square.\n",
    "\n",
    "Your task:\n",
    "- Calculate an estimate of $\\pi$ using this method of $N = 10, 10^3, 10^5, 10^6$. Print these results for each value of $N$. What do you notice as $N$ gets bigger?\n",
    "- For $N=10^4$, plot the points within the quarter circle in one color and the points outside in another color. Make sure the entire plots is a square. Display the estimate value of $\\pi$ on the plot. Don't forget to include a title and legend.\n"
   ]
  },
  {
   "cell_type": "code",
   "execution_count": null,
   "metadata": {
    "executionInfo": {
     "elapsed": 216,
     "status": "ok",
     "timestamp": 1725564375281,
     "user": {
      "displayName": "Brianna Lynn Peck",
      "userId": "00253851097760241708"
     },
     "user_tz": 420
    },
    "id": "gaRAmY2GdRNv"
   },
   "outputs": [],
   "source": [
    "# Your code here\n",
    "def estimate_pi(N):\n",
    "    x = np.random.rand(N)\n",
    "    y = np.random.rand(N)\n",
    "    inside = x**2 + y**2 <= 1\n",
    "    pi_est = 4 * np.sum(inside) / N\n",
    "    return pi_est, x, y, inside\n",
    "\n",
    "Ns = [10, 10**3, 10**5, 10**6]\n",
    "for N in Ns:\n",
    "    pi_est, _, _, _ = estimate_pi(N)\n",
    "    print(f\"N={N}: π ≈ {pi_est}\")\n",
    "\n",
    "# For N=10^4, plot the points\n",
    "N = 10**4\n",
    "pi_est, x, y, inside = estimate_pi(N)\n",
    "plt.figure(figsize=(6,6))\n",
    "plt.scatter(x[inside], y[inside], color='blue', s=1, label='Inside quarter circle')\n",
    "plt.scatter(x[~inside], y[~inside], color='red', s=1, label='Outside quarter circle')\n",
    "plt.title(f\"Monte Carlo π Estimate (N={N})\\nπ ≈ {pi_est:.5f}\")\n",
    "plt.xlabel('x')\n",
    "plt.ylabel('y')\n",
    "plt.legend()\n",
    "plt.axis('square')\n",
    "plt.show()\n"
   ]
  },
  {
   "cell_type": "markdown",
   "metadata": {
    "id": "6Zpn32VJiA5G"
   },
   "source": [
    "# Point-Spread Function\n",
    "\n",
    "*Based on Astro 120 curriculum.*\n",
    "\n",
    "When telescopes look at very distant sources (like stars or galaxies), the light they capture should look like a point source (focused point of light, think of a dot) on the detector.\n",
    "\n",
    "However, due to the diffraction-limit of a telescope, atmospheric turbulence and imperfections in an optical system, the star does not appear like a point. Rather, it becomes a blurry spot on the detector which we model with a **point-spread function** (PSF).\n",
    "\n",
    "To better visualize what the above paragraph is talking about, you will simulate the transition from a point source to a point-spread function using a 2D Gaussian function.\n",
    "\n",
    "We can represent a point source as a single bright pixel in an image.\n",
    "\n",
    "There is an example point-source vs. point-spread function plot in the homework 9 folder.\n"
   ]
  },
  {
   "cell_type": "code",
   "execution_count": null,
   "metadata": {
    "cellView": "form",
    "executionInfo": {
     "elapsed": 209,
     "status": "ok",
     "timestamp": 1725564386514,
     "user": {
      "displayName": "Brianna Lynn Peck",
      "userId": "00253851097760241708"
     },
     "user_tz": 420
    },
    "id": "rMDEXnTYiR_V"
   },
   "outputs": [],
   "source": [
    "# @title Simulate a Point Source:\n",
    "# @markdown Start by creating a 2D image (plot) of size 50×50 pixels. Represent a point source by setting the very center pixel (25,25) to have a brightness of 1.0, while all other pixels should have a value of 0.0.\n",
    "\n",
    "# Your code here\n",
    "\n",
    "img = np.zeros((50, 50))\n",
    "img[25, 25] = 1.0\n",
    "\n",
    "plt.imshow(img, cmap='hot')\n",
    "plt.title('Point Source (Single Bright Pixel)')\n",
    "plt.colorbar()\n",
    "plt.show()\n"
   ]
  },
  {
   "cell_type": "code",
   "execution_count": null,
   "metadata": {
    "cellView": "form",
    "executionInfo": {
     "elapsed": 189,
     "status": "ok",
     "timestamp": 1725564389477,
     "user": {
      "displayName": "Brianna Lynn Peck",
      "userId": "00253851097760241708"
     },
     "user_tz": 420
    },
    "id": "WonZCuEjiR5_"
   },
   "outputs": [],
   "source": [
    "# @title Simulate the Point Spread:\n",
    "# @markdown Now, model a PSF by plotting a 2D Gaussian function to simulate the spread of light from the point source. The Gaussian function is defined as:\n",
    "\n",
    "# @markdown $$ \\text{PSF}(x, y) = A \\cdot \\exp\\left(-\\frac{(x - x_0)^2}{2\\sigma^2} - \\frac{(y - y_0)^2}{2\\sigma^2}\\right) $$\n",
    "\n",
    "# @markdown Where:\n",
    "# @markdown - $A$ is the amplitude (brightness) of the point source.\n",
    "# @markdown - $x_0$, $y_0$ are the coordinates of the center of the PSF.\n",
    "# @markdown - σ controls how much the light spreads out from the center.\n",
    "\n",
    "# @markdown Use $A = 1.0$, center the PSF at (25, 25) and use $\\sigma = 3$.\n",
    "\n",
    "# @markdown This part of the problem is very similar to problem #1 in this homework assignment.\n",
    "\n",
    "# Your code here\n",
    "A = 1.0\n",
    "sigma = 3\n",
    "x0, y0 = 25, 25\n",
    "x = np.arange(50)\n",
    "y = np.arange(50)\n",
    "X, Y = np.meshgrid(x, y)\n",
    "psf = A * np.exp(-((X-x0)**2 + (Y-y0)**2) / (2 * sigma**2))\n",
    "\n",
    "plt.imshow(psf, cmap='hot')\n",
    "plt.title('Point Spread Function (2D Gaussian)')\n",
    "plt.colorbar()\n",
    "plt.show()\n",
    "\n"
   ]
  },
  {
   "cell_type": "code",
   "execution_count": null,
   "metadata": {
    "cellView": "form",
    "executionInfo": {
     "elapsed": 237,
     "status": "ok",
     "timestamp": 1725564392993,
     "user": {
      "displayName": "Brianna Lynn Peck",
      "userId": "00253851097760241708"
     },
     "user_tz": 420
    },
    "id": "4PJl5MIyiRxs"
   },
   "outputs": [],
   "source": [
    "# @title Visualize the Transition:\n",
    "# @markdown Create two plots (horizontal subplots):\n",
    "\n",
    "# @markdown The first plot should display the original point source (a single bright pixel).\n",
    "# @markdown The second plot should display the resulting point spread function (PSF), showing how the light spreads out from the point source.\n",
    "\n",
    "# @markdown All you should be doing at this point is just taking your plots from step 1 and step 2 and turning them into subplots.\n",
    "\n",
    "# Your code here\n",
    "\n",
    "fig, axs = plt.subplots(1, 2, figsize=(10,5))\n",
    "axs[0].imshow(img, cmap='hot')\n",
    "axs[0].set_title('Point Source')\n",
    "axs[1].imshow(psf, cmap='hot')\n",
    "axs[1].set_title('Point Spread Function')\n",
    "plt.tight_layout()\n",
    "plt.show()\n"
   ]
  },
  {
   "cell_type": "code",
   "execution_count": null,
   "metadata": {
    "cellView": "form",
    "id": "Zfi94LJ8j7jU"
   },
   "outputs": [],
   "source": [
    "# @title Bonus (just for fun):\n",
    "# @markdown Try changing the value of $\\sigma$ How does this affect the spread of light in the PSF?"
   ]
  }
 ],
 "metadata": {
  "colab": {
   "authorship_tag": "ABX9TyP7ry95EqdNURcTn5q0m2sZ",
   "provenance": [
    {
     "file_id": "11eD7ydmp1u-uiuA0mLaa8DbkhKpRSoy2",
     "timestamp": 1725564130873
    }
   ]
  },
  "kernelspec": {
   "display_name": "Python 3",
   "name": "python3"
  },
  "language_info": {
   "name": "python"
  }
 },
 "nbformat": 4,
 "nbformat_minor": 0
}
